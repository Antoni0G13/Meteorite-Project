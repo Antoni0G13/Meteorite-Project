{
 "cells": [
  {
   "cell_type": "markdown",
   "id": "97992b45-7900-47e8-b1c0-2ed5eda3df36",
   "metadata": {},
   "source": [
    "# Meteorite Landing"
   ]
  },
  {
   "cell_type": "markdown",
   "id": "f3fe2142-0859-4c05-b18d-dd9295c20db5",
   "metadata": {},
   "source": [
    "### Project **Objetive**\n",
    "#### *Understanding meteorite falls means looking at where and how often rocks from space land on Earth. This helps us learn about our planet's history and any potential dangers from space. Scientists study these falls to find out more about these fascinating events and what they can tell us about our world.\"*\n",
    "\n"
   ]
  },
  {
   "cell_type": "markdown",
   "id": "51e380d2-48b4-476f-82ca-8c7ae925d136",
   "metadata": {},
   "source": [
    "### **Stakeholders**\n",
    "#### ***General Public**: Exploring meteorite falls is valuable for everyone. It helps us learn about Earth's history and how our planet works. Knowing more about these events can also keep us safe by understanding any potential risks. Plus, it's just fascinating to discover more about the wonders of space! So, whether you're a student, a scientist, or just curious about the world around you, studying meteorite falls is an exciting adventure for everyone.*\n",
    "\n"
   ]
  },
  {
   "cell_type": "markdown",
   "id": "8433b33b-1977-4f79-a2d1-1012b8c209c2",
   "metadata": {},
   "source": [
    "### **Specific Objetive**\n",
    "#### *To create a data visualization showcasing the geographic locations of meteorite falls. This visualization will enable individuals to explore and gain a better understanding of where meteorites have impacted across the globe. .*"
   ]
  },
  {
   "cell_type": "markdown",
   "id": "c86e4436-1e2d-4022-8a37-cc5053491a4e",
   "metadata": {},
   "source": [
    "### **Data Source**\n",
    "#### *The data source for this project draws inspiration from the following dataframe: NASA Meteorite Landings. However, due to potential outdatedness, a new dataset will be curated utilizing information from the webpage Meteoritical Bulletin Database. This database provides up-to-date records of meteorite landings, ensuring the accuracy and relevance of the data used in the visualization.*\n"
   ]
  },
  {
   "cell_type": "markdown",
   "id": "06b8eff1-882e-48dc-a048-f088ce779ceb",
   "metadata": {},
   "source": [
    "## **Preparing Data**"
   ]
  },
  {
   "cell_type": "code",
   "execution_count": 1,
   "id": "1c76a21b-70fb-41fa-8387-abc9059e08a3",
   "metadata": {},
   "outputs": [],
   "source": [
    "import pandas as pd  # Importing pandas for data manipulation\n",
    "import matplotlib.pyplot as plt  # Importing matplotlib for plotting\n",
    "import seaborn as sns  # Importing seaborn for enhanced data visualization"
   ]
  },
  {
   "cell_type": "code",
   "execution_count": 2,
   "id": "0358b3b6-1273-41b6-85d5-81a4b76be336",
   "metadata": {},
   "outputs": [],
   "source": [
    "# Importing the CSV file named \"Meteorite_Landing.csv\" using pandas\n",
    "meteorite_data = pd.read_csv(\"Meteorite_Landing.csv\")"
   ]
  },
  {
   "cell_type": "code",
   "execution_count": 3,
   "id": "b88e77ce-e1a1-423c-bb6e-d50ba30fc94d",
   "metadata": {},
   "outputs": [
    {
     "data": {
      "text/html": [
       "<div>\n",
       "<style scoped>\n",
       "    .dataframe tbody tr th:only-of-type {\n",
       "        vertical-align: middle;\n",
       "    }\n",
       "\n",
       "    .dataframe tbody tr th {\n",
       "        vertical-align: top;\n",
       "    }\n",
       "\n",
       "    .dataframe thead th {\n",
       "        text-align: right;\n",
       "    }\n",
       "</style>\n",
       "<table border=\"1\" class=\"dataframe\">\n",
       "  <thead>\n",
       "    <tr style=\"text-align: right;\">\n",
       "      <th></th>\n",
       "      <th>name</th>\n",
       "      <th>id</th>\n",
       "      <th>nametype</th>\n",
       "      <th>recclass</th>\n",
       "      <th>mass (g)</th>\n",
       "      <th>fall</th>\n",
       "      <th>year</th>\n",
       "      <th>reclat</th>\n",
       "      <th>reclong</th>\n",
       "      <th>GeoLocation</th>\n",
       "    </tr>\n",
       "  </thead>\n",
       "  <tbody>\n",
       "    <tr>\n",
       "      <th>0</th>\n",
       "      <td>Aachen</td>\n",
       "      <td>1</td>\n",
       "      <td>Valid</td>\n",
       "      <td>L5</td>\n",
       "      <td>21.0</td>\n",
       "      <td>Fell</td>\n",
       "      <td>1880.0</td>\n",
       "      <td>50.77500</td>\n",
       "      <td>6.08333</td>\n",
       "      <td>(50.775, 6.08333)</td>\n",
       "    </tr>\n",
       "    <tr>\n",
       "      <th>1</th>\n",
       "      <td>Aarhus</td>\n",
       "      <td>2</td>\n",
       "      <td>Valid</td>\n",
       "      <td>H6</td>\n",
       "      <td>720.0</td>\n",
       "      <td>Fell</td>\n",
       "      <td>1951.0</td>\n",
       "      <td>56.18333</td>\n",
       "      <td>10.23333</td>\n",
       "      <td>(56.18333, 10.23333)</td>\n",
       "    </tr>\n",
       "    <tr>\n",
       "      <th>2</th>\n",
       "      <td>Abee</td>\n",
       "      <td>6</td>\n",
       "      <td>Valid</td>\n",
       "      <td>EH4</td>\n",
       "      <td>107000.0</td>\n",
       "      <td>Fell</td>\n",
       "      <td>1952.0</td>\n",
       "      <td>54.21667</td>\n",
       "      <td>-113.00000</td>\n",
       "      <td>(54.21667, -113.0)</td>\n",
       "    </tr>\n",
       "    <tr>\n",
       "      <th>3</th>\n",
       "      <td>Acapulco</td>\n",
       "      <td>10</td>\n",
       "      <td>Valid</td>\n",
       "      <td>Acapulcoite</td>\n",
       "      <td>1914.0</td>\n",
       "      <td>Fell</td>\n",
       "      <td>1976.0</td>\n",
       "      <td>16.88333</td>\n",
       "      <td>-99.90000</td>\n",
       "      <td>(16.88333, -99.9)</td>\n",
       "    </tr>\n",
       "    <tr>\n",
       "      <th>4</th>\n",
       "      <td>Achiras</td>\n",
       "      <td>370</td>\n",
       "      <td>Valid</td>\n",
       "      <td>L6</td>\n",
       "      <td>780.0</td>\n",
       "      <td>Fell</td>\n",
       "      <td>1902.0</td>\n",
       "      <td>-33.16667</td>\n",
       "      <td>-64.95000</td>\n",
       "      <td>(-33.16667, -64.95)</td>\n",
       "    </tr>\n",
       "  </tbody>\n",
       "</table>\n",
       "</div>"
      ],
      "text/plain": [
       "       name   id nametype     recclass  mass (g)  fall    year    reclat  \\\n",
       "0    Aachen    1    Valid           L5      21.0  Fell  1880.0  50.77500   \n",
       "1    Aarhus    2    Valid           H6     720.0  Fell  1951.0  56.18333   \n",
       "2      Abee    6    Valid          EH4  107000.0  Fell  1952.0  54.21667   \n",
       "3  Acapulco   10    Valid  Acapulcoite    1914.0  Fell  1976.0  16.88333   \n",
       "4   Achiras  370    Valid           L6     780.0  Fell  1902.0 -33.16667   \n",
       "\n",
       "     reclong           GeoLocation  \n",
       "0    6.08333     (50.775, 6.08333)  \n",
       "1   10.23333  (56.18333, 10.23333)  \n",
       "2 -113.00000    (54.21667, -113.0)  \n",
       "3  -99.90000     (16.88333, -99.9)  \n",
       "4  -64.95000   (-33.16667, -64.95)  "
      ]
     },
     "execution_count": 3,
     "metadata": {},
     "output_type": "execute_result"
    }
   ],
   "source": [
    "# Displaying the first few rows of the meteorite data to inspect its structure and content\n",
    "meteorite_data.head()"
   ]
  },
  {
   "cell_type": "code",
   "execution_count": 4,
   "id": "3e536cb0-79b9-4ae3-aff5-3baa3b793689",
   "metadata": {},
   "outputs": [
    {
     "data": {
      "text/plain": [
       "name            object\n",
       "id               int64\n",
       "nametype        object\n",
       "recclass        object\n",
       "mass (g)       float64\n",
       "fall            object\n",
       "year           float64\n",
       "reclat         float64\n",
       "reclong        float64\n",
       "GeoLocation     object\n",
       "dtype: object"
      ]
     },
     "execution_count": 4,
     "metadata": {},
     "output_type": "execute_result"
    }
   ],
   "source": [
    "# Displaying the data types of each column in the meteorite dataset\n",
    "meteorite_data.dtypes"
   ]
  },
  {
   "cell_type": "code",
   "execution_count": 5,
   "id": "9690c0d4-8143-471e-aee1-b1734dd8c94d",
   "metadata": {},
   "outputs": [
    {
     "data": {
      "text/plain": [
       "(45716, 10)"
      ]
     },
     "execution_count": 5,
     "metadata": {},
     "output_type": "execute_result"
    }
   ],
   "source": [
    "# Displaying the shape of the meteorite dataset, which shows the number of rows and columns\n",
    "meteorite_data.shape"
   ]
  },
  {
   "cell_type": "markdown",
   "id": "ee1c64df-0043-48a6-a88c-ef8195b33042",
   "metadata": {},
   "source": [
    "## **Cleaning Data**"
   ]
  },
  {
   "cell_type": "code",
   "execution_count": 6,
   "id": "b291a2ec-daf4-425c-a36e-37b1e1a217ab",
   "metadata": {},
   "outputs": [],
   "source": [
    "\n",
    "df = meteorite_data\n",
    "\n",
    "# Dropping columns that are deemed unnecessary for the analysis\n",
    "# The columns \"nametype\" and \"recclass\" are not relevant for the visualization of meteorite landings over time and location.\n",
    "# The column \"mass (g)\" might not be necessary if the focus is on frequency rather than individual masses of meteorites.\n",
    "# The column \"fall\" indicates whether the meteorite was found or fell, which might not be directly relevant to the visualization objective.\n",
    "# The column \"GeoLocation\" could be redundant if latitude and longitude coordinates are already present in separate columns.\n",
    "col_to_drop = [\"nametype\", \"recclass\", \"mass (g)\", \"fall\", \"GeoLocation\"]\n",
    "\n",
    "# Dropping the specified columns from the dataset\n",
    "df = df.drop(columns=col_to_drop)"
   ]
  },
  {
   "cell_type": "code",
   "execution_count": 7,
   "id": "27cb67c9-4024-465d-b42a-bed95fd474a3",
   "metadata": {},
   "outputs": [
    {
     "data": {
      "text/plain": [
       "(45716, 5)"
      ]
     },
     "execution_count": 7,
     "metadata": {},
     "output_type": "execute_result"
    }
   ],
   "source": [
    "# Removing any duplicate rows from the dataset\n",
    "df = df.drop_duplicates()\n",
    "\n",
    "# Displaying the new shape of the dataset after removing duplicates\n",
    "df.shape\n"
   ]
  },
  {
   "cell_type": "code",
   "execution_count": 8,
   "id": "e0b60540-0bba-47df-b544-d6dae0fc9c80",
   "metadata": {},
   "outputs": [
    {
     "data": {
      "text/plain": [
       "name       45716\n",
       "id         45716\n",
       "year         265\n",
       "reclat     12738\n",
       "reclong    14640\n",
       "dtype: int64"
      ]
     },
     "execution_count": 8,
     "metadata": {},
     "output_type": "execute_result"
    }
   ],
   "source": [
    "# Displaying the number of unique values in each column of the dataset\n",
    "df.nunique()"
   ]
  },
  {
   "cell_type": "code",
   "execution_count": 9,
   "id": "05e81066-8bbd-4bf2-a28d-d267a8c8d2de",
   "metadata": {},
   "outputs": [
    {
     "name": "stdout",
     "output_type": "stream",
     "text": [
      "name          0\n",
      "id            0\n",
      "year        291\n",
      "reclat     7315\n",
      "reclong    7315\n",
      "dtype: int64\n"
     ]
    }
   ],
   "source": [
    "# Calculating the number of null values in each column of the dataset\n",
    "df_null_values = df.isnull().sum()\n",
    "\n",
    "# Displaying the count of null values in each column\n",
    "print(df_null_values)\n"
   ]
  },
  {
   "cell_type": "code",
   "execution_count": 10,
   "id": "33fc6e48-1bfe-4be8-8bf7-a92cbf063c59",
   "metadata": {},
   "outputs": [
    {
     "data": {
      "text/plain": [
       "(38223, 5)"
      ]
     },
     "execution_count": 10,
     "metadata": {},
     "output_type": "execute_result"
    }
   ],
   "source": [
    "# Given the nature of the data, using data imputation models for coordinates and years might affect data accuracy.\n",
    "# Therefore, it's better to remove rows with missing values.\n",
    "\n",
    "# Dropping rows with missing values from the DataFrame\n",
    "df = df.dropna()\n",
    "\n",
    "# Displaying the new shape of the DataFrame after removing rows with missing values\n",
    "df.shape"
   ]
  },
  {
   "cell_type": "code",
   "execution_count": 11,
   "id": "174574bd-273f-455e-bed5-dcd5d1295502",
   "metadata": {},
   "outputs": [
    {
     "data": {
      "text/plain": [
       "(31813, 5)"
      ]
     },
     "execution_count": 11,
     "metadata": {},
     "output_type": "execute_result"
    }
   ],
   "source": [
    "# Removing rows where both \"reclat\" and \"reclong\" are equal to 0, as it's unlikely for meteorites to have landed at coordinates \n",
    "# indicating \"the null island\"\n",
    "\n",
    "\n",
    "# Removing rows where both \"reclat\" and \"reclong\" are equal to 0\n",
    "df = df[(df[\"reclat\"] != 0) & (df[\"reclong\"] != 0)]\n",
    "\n",
    "# Displaying the new shape of the DataFrame after removing the specified rows\n",
    "df.shape\n"
   ]
  },
  {
   "cell_type": "code",
   "execution_count": 12,
   "id": "84190f72-c61d-408c-982d-6ddebfdbf969",
   "metadata": {},
   "outputs": [
    {
     "data": {
      "text/plain": [
       "name       31813\n",
       "id         31813\n",
       "year         264\n",
       "reclat     12629\n",
       "reclong    14522\n",
       "dtype: int64"
      ]
     },
     "execution_count": 12,
     "metadata": {},
     "output_type": "execute_result"
    }
   ],
   "source": [
    "# Displaying the number of unique values in each column of the cleaned DataFrame\n",
    "df.nunique()"
   ]
  },
  {
   "cell_type": "code",
   "execution_count": 13,
   "id": "bb38d7eb-d2d7-4cd1-a61e-11cac4ed0b6a",
   "metadata": {},
   "outputs": [
    {
     "data": {
      "text/plain": [
       "name        object\n",
       "id           int64\n",
       "year       float64\n",
       "reclat     float64\n",
       "reclong    float64\n",
       "dtype: object"
      ]
     },
     "execution_count": 13,
     "metadata": {},
     "output_type": "execute_result"
    }
   ],
   "source": [
    "# Displaying the data types of each column in the cleaned DataFrame\n",
    "df.dtypes"
   ]
  },
  {
   "cell_type": "code",
   "execution_count": 14,
   "id": "761d01b1-352e-4174-b7f9-4dcfe7db723a",
   "metadata": {},
   "outputs": [],
   "source": [
    "# Converting the \"year\" column to integer type\n",
    "df[\"year\"] = df[\"year\"].astype(int)\n"
   ]
  },
  {
   "cell_type": "code",
   "execution_count": 15,
   "id": "ca5b8e6e-09de-4b54-a6d0-f2d59ec46605",
   "metadata": {},
   "outputs": [
    {
     "data": {
      "text/html": [
       "<div>\n",
       "<style scoped>\n",
       "    .dataframe tbody tr th:only-of-type {\n",
       "        vertical-align: middle;\n",
       "    }\n",
       "\n",
       "    .dataframe tbody tr th {\n",
       "        vertical-align: top;\n",
       "    }\n",
       "\n",
       "    .dataframe thead th {\n",
       "        text-align: right;\n",
       "    }\n",
       "</style>\n",
       "<table border=\"1\" class=\"dataframe\">\n",
       "  <thead>\n",
       "    <tr style=\"text-align: right;\">\n",
       "      <th></th>\n",
       "      <th>id</th>\n",
       "      <th>year</th>\n",
       "      <th>reclat</th>\n",
       "      <th>reclong</th>\n",
       "    </tr>\n",
       "  </thead>\n",
       "  <tbody>\n",
       "    <tr>\n",
       "      <th>count</th>\n",
       "      <td>31813.000000</td>\n",
       "      <td>31813.000000</td>\n",
       "      <td>31813.000000</td>\n",
       "      <td>31813.000000</td>\n",
       "    </tr>\n",
       "    <tr>\n",
       "      <th>mean</th>\n",
       "      <td>20773.422972</td>\n",
       "      <td>1986.898061</td>\n",
       "      <td>-47.320727</td>\n",
       "      <td>73.281910</td>\n",
       "    </tr>\n",
       "    <tr>\n",
       "      <th>std</th>\n",
       "      <td>14983.047605</td>\n",
       "      <td>28.179797</td>\n",
       "      <td>46.921846</td>\n",
       "      <td>83.406886</td>\n",
       "    </tr>\n",
       "    <tr>\n",
       "      <th>min</th>\n",
       "      <td>1.000000</td>\n",
       "      <td>860.000000</td>\n",
       "      <td>-87.366670</td>\n",
       "      <td>-165.433330</td>\n",
       "    </tr>\n",
       "    <tr>\n",
       "      <th>25%</th>\n",
       "      <td>9202.000000</td>\n",
       "      <td>1983.000000</td>\n",
       "      <td>-79.683330</td>\n",
       "      <td>26.000000</td>\n",
       "    </tr>\n",
       "    <tr>\n",
       "      <th>50%</th>\n",
       "      <td>18516.000000</td>\n",
       "      <td>1991.000000</td>\n",
       "      <td>-72.000000</td>\n",
       "      <td>57.043630</td>\n",
       "    </tr>\n",
       "    <tr>\n",
       "      <th>75%</th>\n",
       "      <td>27323.000000</td>\n",
       "      <td>2000.000000</td>\n",
       "      <td>18.453330</td>\n",
       "      <td>159.399720</td>\n",
       "    </tr>\n",
       "    <tr>\n",
       "      <th>max</th>\n",
       "      <td>57455.000000</td>\n",
       "      <td>2013.000000</td>\n",
       "      <td>81.166670</td>\n",
       "      <td>354.473330</td>\n",
       "    </tr>\n",
       "  </tbody>\n",
       "</table>\n",
       "</div>"
      ],
      "text/plain": [
       "                 id          year        reclat       reclong\n",
       "count  31813.000000  31813.000000  31813.000000  31813.000000\n",
       "mean   20773.422972   1986.898061    -47.320727     73.281910\n",
       "std    14983.047605     28.179797     46.921846     83.406886\n",
       "min        1.000000    860.000000    -87.366670   -165.433330\n",
       "25%     9202.000000   1983.000000    -79.683330     26.000000\n",
       "50%    18516.000000   1991.000000    -72.000000     57.043630\n",
       "75%    27323.000000   2000.000000     18.453330    159.399720\n",
       "max    57455.000000   2013.000000     81.166670    354.473330"
      ]
     },
     "execution_count": 15,
     "metadata": {},
     "output_type": "execute_result"
    }
   ],
   "source": [
    "# Displaying descriptive statistics for the numerical columns in the DataFrame\n",
    "df.describe()"
   ]
  },
  {
   "cell_type": "code",
   "execution_count": 16,
   "id": "3e92bcce-4d54-475f-b3ff-381baf205568",
   "metadata": {},
   "outputs": [
    {
     "name": "stdout",
     "output_type": "stream",
     "text": [
      "                   name     id  year   reclat    reclong\n",
      "22946  Meridiani Planum  32789  2005 -1.94617  354.47333\n"
     ]
    }
   ],
   "source": [
    "# Identifying outliers in the \"reclat\" and \"reclong\" columns based on the established criteria:\n",
    "# Values are considered outliers if \"reclat\" is less than -90 or greater than 90, \n",
    "# or if \"reclong\" is less than -180 or greater than 180. These criteria are based on the valid range of latitude and longitude values on Earth.\n",
    "\n",
    "# Identifying outliers where \"reclat\" is less than -90 or greater than 90,\n",
    "# and \"reclong\" is less than -180 or greater than 180\n",
    "outliers_df = df[(df[\"reclat\"] < -90) | (df[\"reclat\"] > 90) | (df[\"reclong\"] < -180) | (df[\"reclong\"] > 180)]\n",
    "\n",
    "# Displaying the DataFrame containing outliers\n",
    "print(outliers_df)\n"
   ]
  },
  {
   "cell_type": "code",
   "execution_count": 17,
   "id": "cb8dea21-7eb8-4566-809c-1b3885fa4830",
   "metadata": {},
   "outputs": [],
   "source": [
    "# Removing the row corresponding to the meteorite in Meridiani Planum, as it is not relevant to our dataset since it belongs to the planet Mars.\n",
    "df = df.drop(index=22946)"
   ]
  },
  {
   "cell_type": "code",
   "execution_count": 20,
   "id": "d250870a-38c7-4ded-bf9d-f43b74dcb56e",
   "metadata": {},
   "outputs": [],
   "source": [
    "df = df.sort_values(\"year\", ascending=True)"
   ]
  },
  {
   "cell_type": "code",
   "execution_count": 26,
   "id": "69f4026f-36cd-4538-9b0a-d39dd124795e",
   "metadata": {},
   "outputs": [
    {
     "data": {
      "text/plain": [
       "Index(['name', 'id', 'year', 'reclat', 'reclong'], dtype='object')"
      ]
     },
     "execution_count": 26,
     "metadata": {},
     "output_type": "execute_result"
    }
   ],
   "source": [
    "df.keys()"
   ]
  },
  {
   "cell_type": "markdown",
   "id": "75783539-6339-4142-b2e1-9103a5dea407",
   "metadata": {},
   "source": [
    "### Data Transoform"
   ]
  },
  {
   "cell_type": "code",
   "execution_count": 19,
   "id": "b6afb493-a6c7-48d1-af68-a6029e8e324a",
   "metadata": {},
   "outputs": [
    {
     "ename": "SyntaxError",
     "evalue": "incomplete input (1196814464.py, line 1)",
     "output_type": "error",
     "traceback": [
      "\u001b[0;36m  Cell \u001b[0;32mIn[19], line 1\u001b[0;36m\u001b[0m\n\u001b[0;31m    \"\"\"\u001b[0m\n\u001b[0m    ^\u001b[0m\n\u001b[0;31mSyntaxError\u001b[0m\u001b[0;31m:\u001b[0m incomplete input\n"
     ]
    }
   ],
   "source": [
    "\"\"\"\n",
    "# Export to tableu\n",
    "\n",
    "df.to_csv(\"Meteorite_Cleaned.csv\", index=False)\n"
   ]
  },
  {
   "cell_type": "code",
   "execution_count": 24,
   "id": "a42fff23-27ef-4c12-81e1-9ab180585459",
   "metadata": {},
   "outputs": [
    {
     "data": {
      "text/html": [
       "<div>\n",
       "<style scoped>\n",
       "    .dataframe tbody tr th:only-of-type {\n",
       "        vertical-align: middle;\n",
       "    }\n",
       "\n",
       "    .dataframe tbody tr th {\n",
       "        vertical-align: top;\n",
       "    }\n",
       "\n",
       "    .dataframe thead th {\n",
       "        text-align: right;\n",
       "    }\n",
       "</style>\n",
       "<table border=\"1\" class=\"dataframe\">\n",
       "  <thead>\n",
       "    <tr style=\"text-align: right;\">\n",
       "      <th></th>\n",
       "      <th>name</th>\n",
       "      <th>id</th>\n",
       "      <th>year</th>\n",
       "      <th>reclat</th>\n",
       "      <th>reclong</th>\n",
       "    </tr>\n",
       "  </thead>\n",
       "  <tbody>\n",
       "    <tr>\n",
       "      <th>33224</th>\n",
       "      <td>Queen Alexandra Range 94420</td>\n",
       "      <td>20053</td>\n",
       "      <td>1994</td>\n",
       "      <td>-84.00000</td>\n",
       "      <td>168.0000</td>\n",
       "    </tr>\n",
       "    <tr>\n",
       "      <th>32074</th>\n",
       "      <td>Queen Alexandra Range 02100</td>\n",
       "      <td>18913</td>\n",
       "      <td>2002</td>\n",
       "      <td>-84.00000</td>\n",
       "      <td>168.0000</td>\n",
       "    </tr>\n",
       "    <tr>\n",
       "      <th>15824</th>\n",
       "      <td>Grove Mountains 054658</td>\n",
       "      <td>50655</td>\n",
       "      <td>2006</td>\n",
       "      <td>-72.99889</td>\n",
       "      <td>75.1872</td>\n",
       "    </tr>\n",
       "    <tr>\n",
       "      <th>31385</th>\n",
       "      <td>Pecora Escarpment 02013</td>\n",
       "      <td>18195</td>\n",
       "      <td>2002</td>\n",
       "      <td>-85.63333</td>\n",
       "      <td>-68.7000</td>\n",
       "    </tr>\n",
       "    <tr>\n",
       "      <th>15919</th>\n",
       "      <td>Grove Mountains 99013</td>\n",
       "      <td>11410</td>\n",
       "      <td>2000</td>\n",
       "      <td>-73.08333</td>\n",
       "      <td>75.2000</td>\n",
       "    </tr>\n",
       "  </tbody>\n",
       "</table>\n",
       "</div>"
      ],
      "text/plain": [
       "                              name     id  year    reclat   reclong\n",
       "33224  Queen Alexandra Range 94420  20053  1994 -84.00000  168.0000\n",
       "32074  Queen Alexandra Range 02100  18913  2002 -84.00000  168.0000\n",
       "15824       Grove Mountains 054658  50655  2006 -72.99889   75.1872\n",
       "31385      Pecora Escarpment 02013  18195  2002 -85.63333  -68.7000\n",
       "15919        Grove Mountains 99013  11410  2000 -73.08333   75.2000"
      ]
     },
     "execution_count": 24,
     "metadata": {},
     "output_type": "execute_result"
    }
   ],
   "source": [
    "df.sample(5)"
   ]
  },
  {
   "cell_type": "code",
   "execution_count": null,
   "id": "65d9b32b-e2d6-42c4-a480-fed6360e03de",
   "metadata": {},
   "outputs": [],
   "source": []
  }
 ],
 "metadata": {
  "kernelspec": {
   "display_name": "Python 3 (ipykernel)",
   "language": "python",
   "name": "python3"
  },
  "language_info": {
   "codemirror_mode": {
    "name": "ipython",
    "version": 3
   },
   "file_extension": ".py",
   "mimetype": "text/x-python",
   "name": "python",
   "nbconvert_exporter": "python",
   "pygments_lexer": "ipython3",
   "version": "3.12.2"
  }
 },
 "nbformat": 4,
 "nbformat_minor": 5
}
